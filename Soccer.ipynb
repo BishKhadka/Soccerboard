{
 "cells": [
  {
   "cell_type": "markdown",
   "id": "9b0da859",
   "metadata": {},
   "source": [
    "Note: \\\n",
    "It might be much faster using asynchronous programming and parsel: import asyncio, import aiohttp, from parsel import Selector, lxml was faster too \\\n",
    "Asyncio with Multiprocessing do this for faster return time for later use\n"
   ]
  },
  {
   "cell_type": "code",
   "execution_count": 4,
   "id": "de00f294",
   "metadata": {},
   "outputs": [],
   "source": [
    "import requests\n",
    "from bs4 import BeautifulSoup\n",
    "import pandas as pd\n",
    "import time"
   ]
  },
  {
   "cell_type": "code",
   "execution_count": 20,
   "id": "fbb47bbd",
   "metadata": {},
   "outputs": [
    {
     "name": "stdout",
     "output_type": "stream",
     "text": [
      "Requirement already satisfied: lxml in /Users/vega/mambaforge/lib/python3.10/site-packages (4.9.2)\n",
      "Note: you may need to restart the kernel to use updated packages.\n"
     ]
    }
   ],
   "source": []
  },
  {
   "cell_type": "code",
   "execution_count": 50,
   "id": "02450836",
   "metadata": {},
   "outputs": [
    {
     "data": {
      "text/plain": [
       "[]"
      ]
     },
     "execution_count": 50,
     "metadata": {},
     "output_type": "execute_result"
    }
   ],
   "source": [
    "def getClubData(url):\n",
    "    data = requests.get(url)\n",
    "    soup = BeautifulSoup(data.text)\n",
    "    all_links = soup.find_all(\"a\")\n",
    "    links = [l.get(\"href\") for l in all_links]\n",
    "    links = [l for l in links if l and param in l]\n",
    "    links = \"https://fbref.com\" + links[0]\n",
    "    print(links)\n",
    "    \n",
    "url = \"https://fbref.com/en/squads/b8fd03ef/Manchester-City-Stats\"\n",
    "getAllClubLinks(url)"
   ]
  },
  {
   "cell_type": "code",
   "execution_count": 67,
   "id": "734bc57a",
   "metadata": {
    "scrolled": false
   },
   "outputs": [],
   "source": [
    "import concurrent.futures\n",
    "import time\n",
    "\n",
    "def getAllClubData(url):\n",
    "    # runs only once for all clubs, returns team links\n",
    "    allClubLinks = getAllClubLinks(url)\n",
    "    names = {\"Comp\": \"Competition\", \"Poss\": \"Possession\", \"Sh\":\"Shots\", \"SoT\":\"Shots Target\", \"CrdY\":\"Yellow\", \"CrdR\":\"Red\", \"Fls\":\"Fouls\",\"Off\":\"Offside\"}\n",
    "    \n",
    "    allClubData = []\n",
    "    with concurrent.futures.ThreadPoolExecutor() as executor:\n",
    "        # Submit each club processing as a separate task\n",
    "        club_tasks = [executor.submit(processClubData, link) for link in allClubLinks]\n",
    "        \n",
    "        # Wait for all tasks to complete\n",
    "        concurrent.futures.wait(club_tasks)\n",
    "        \n",
    "        # Get results from completed tasks\n",
    "        for task in club_tasks:\n",
    "            club_data = task.result()\n",
    "            if club_data is not None:\n",
    "                allClubData.append(club_data)\n",
    "            time.sleep(1000)\n",
    "    \n",
    "    result = pd.concat(allClubData, axis=0)\n",
    "    return result\n",
    "\n",
    "def getClubData(requestData, param, match, keepList):\n",
    "    soup = BeautifulSoup(requestData.text)\n",
    "    all_links = soup.find_all(\"a\")\n",
    "    links = [l.get(\"href\") for l in all_links]\n",
    "    links = [l for l in links if l and param in l]\n",
    "    links = \"https://fbref.com\" + links[0]\n",
    "    shooting = requests.get(links)\n",
    "    shooting = pd.read_html(shooting.text, match=match)[0]\n",
    "    shooting.columns = shooting.columns.droplevel()\n",
    "    shooting = shooting[keepList]\n",
    "    return shooting[:-1]\n",
    "\n",
    "def processClubData(link):\n",
    "    club = requests.get(link)\n",
    "    clubName = link.split(\"/\")[-1].replace(\"-Stats\",\"\").replace(\"-\", \" \")\n",
    "    print(clubName)\n",
    "\n",
    "    # get Scores (on the same page)\n",
    "    scores = pd.read_html(club.text, match = \"Scores & Fixtures\")[0]\n",
    "    scores = scores[['Date', 'Time', 'Comp', 'Round', 'Day', 'Venue', 'Result', 'GF', 'GA','Opponent', 'Poss']]\n",
    "\n",
    "    # get shooting and other stat (figure better ways for these two)\n",
    "    shooting = getClubData(club, \"/all_comps/shooting/\", \"Shooting\", ['Date', 'Sh', \"SoT\"])\n",
    "    misc = getClubData(club, \"/all_comps/misc/\", \"Miscellaneous\", ['Date', 'CrdY', 'CrdR', 'Fls', 'Off'])\n",
    "    names = {\"Comp\": \"Competition\", \"Poss\": \"Possession\", \"Sh\":\"Shots\", \"SoT\":\"Shots Target\", \"CrdY\":\"Yellow\", \"CrdR\":\"Red\", \"Fls\":\"Fouls\",\"Off\":\"Offside\"}\n",
    "    finalClubData = scores.merge(shooting, how='left').merge(misc, how='left')\n",
    "    finalClubData.rename(columns=names, inplace=True)\n",
    "    finalClubData = finalClubData[finalClubData[\"Competition\"] == \"Premier League\"]\n",
    "    finalClubData[\"Team\"] = clubName\n",
    "    print(clubName, finalClubData)\n",
    "    return finalClubData\n",
    "\n",
    "url = \"https://fbref.com/en/comps/9/Premier-League-Stats\"\n",
    "getAllClubData(url)"
   ]
  },
  {
   "cell_type": "code",
   "execution_count": 69,
   "id": "314efc70",
   "metadata": {},
   "outputs": [
    {
     "name": "stdout",
     "output_type": "stream",
     "text": [
      "Manchester City\n",
      "Arsenal\n",
      "Manchester United\n",
      "Newcastle United\n",
      "Liverpool\n",
      "Brighton and Hove Albion\n",
      "Aston Villa\n",
      "Tottenham Hotspur\n",
      "Brentford\n"
     ]
    },
    {
     "ename": "KeyboardInterrupt",
     "evalue": "",
     "output_type": "error",
     "traceback": [
      "\u001b[0;31m---------------------------------------------------------------------------\u001b[0m",
      "\u001b[0;31mKeyboardInterrupt\u001b[0m                         Traceback (most recent call last)",
      "Cell \u001b[0;32mIn[69], line 73\u001b[0m\n\u001b[1;32m     70\u001b[0m     \u001b[38;5;28;01mreturn\u001b[39;00m result\n\u001b[1;32m     72\u001b[0m url \u001b[38;5;241m=\u001b[39m \u001b[38;5;124m\"\u001b[39m\u001b[38;5;124mhttps://fbref.com/en/comps/9/Premier-League-Stats\u001b[39m\u001b[38;5;124m\"\u001b[39m\n\u001b[0;32m---> 73\u001b[0m \u001b[43mgetAllClubData\u001b[49m\u001b[43m(\u001b[49m\u001b[43murl\u001b[49m\u001b[43m)\u001b[49m\n",
      "Cell \u001b[0;32mIn[69], line 56\u001b[0m, in \u001b[0;36mgetAllClubData\u001b[0;34m(url)\u001b[0m\n\u001b[1;32m     53\u001b[0m club_tasks \u001b[38;5;241m=\u001b[39m []\n\u001b[1;32m     54\u001b[0m \u001b[38;5;28;01mfor\u001b[39;00m link \u001b[38;5;129;01min\u001b[39;00m allClubLinks:\n\u001b[1;32m     55\u001b[0m     \u001b[38;5;66;03m# Add a rate limiting timer before each club task\u001b[39;00m\n\u001b[0;32m---> 56\u001b[0m     \u001b[43mtime\u001b[49m\u001b[38;5;241;43m.\u001b[39;49m\u001b[43msleep\u001b[49m\u001b[43m(\u001b[49m\u001b[38;5;241;43m10\u001b[39;49m\u001b[43m)\u001b[49m\n\u001b[1;32m     57\u001b[0m     club_task \u001b[38;5;241m=\u001b[39m executor\u001b[38;5;241m.\u001b[39msubmit(processClubData, link)\n\u001b[1;32m     58\u001b[0m     club_tasks\u001b[38;5;241m.\u001b[39mappend(club_task)\n",
      "\u001b[0;31mKeyboardInterrupt\u001b[0m: "
     ]
    }
   ],
   "source": []
  },
  {
   "cell_type": "code",
   "execution_count": 54,
   "id": "0bc01c7f",
   "metadata": {},
   "outputs": [
    {
     "name": "stderr",
     "output_type": "stream",
     "text": [
      "Process SpawnProcess-5:\n",
      "Process SpawnProcess-6:\n",
      "Process SpawnProcess-4:\n",
      "Process SpawnProcess-2:\n",
      "Process SpawnProcess-1:\n",
      "Process SpawnProcess-3:\n",
      "Traceback (most recent call last):\n",
      "Traceback (most recent call last):\n",
      "Traceback (most recent call last):\n",
      "  File \"/Users/vega/mambaforge/lib/python3.10/multiprocessing/process.py\", line 314, in _bootstrap\n",
      "    self.run()\n",
      "  File \"/Users/vega/mambaforge/lib/python3.10/multiprocessing/process.py\", line 108, in run\n",
      "    self._target(*self._args, **self._kwargs)\n",
      "  File \"/Users/vega/mambaforge/lib/python3.10/multiprocessing/process.py\", line 314, in _bootstrap\n",
      "    self.run()\n",
      "  File \"/Users/vega/mambaforge/lib/python3.10/concurrent/futures/process.py\", line 240, in _process_worker\n",
      "    call_item = call_queue.get(block=True)\n",
      "  File \"/Users/vega/mambaforge/lib/python3.10/multiprocessing/process.py\", line 108, in run\n",
      "    self._target(*self._args, **self._kwargs)\n",
      "  File \"/Users/vega/mambaforge/lib/python3.10/multiprocessing/queues.py\", line 122, in get\n",
      "    return _ForkingPickler.loads(res)\n",
      "  File \"/Users/vega/mambaforge/lib/python3.10/concurrent/futures/process.py\", line 240, in _process_worker\n",
      "    call_item = call_queue.get(block=True)\n",
      "  File \"/Users/vega/mambaforge/lib/python3.10/multiprocessing/queues.py\", line 122, in get\n",
      "    return _ForkingPickler.loads(res)\n",
      "AttributeError: Can't get attribute 'processClubData' on <module '__main__' (built-in)>\n",
      "AttributeError: Can't get attribute 'processClubData' on <module '__main__' (built-in)>\n",
      "  File \"/Users/vega/mambaforge/lib/python3.10/multiprocessing/process.py\", line 314, in _bootstrap\n",
      "    self.run()\n",
      "  File \"/Users/vega/mambaforge/lib/python3.10/multiprocessing/process.py\", line 108, in run\n",
      "    self._target(*self._args, **self._kwargs)\n",
      "  File \"/Users/vega/mambaforge/lib/python3.10/concurrent/futures/process.py\", line 240, in _process_worker\n",
      "    call_item = call_queue.get(block=True)\n",
      "  File \"/Users/vega/mambaforge/lib/python3.10/multiprocessing/queues.py\", line 122, in get\n",
      "    return _ForkingPickler.loads(res)\n",
      "Traceback (most recent call last):\n",
      "AttributeError: Can't get attribute 'processClubData' on <module '__main__' (built-in)>\n",
      "  File \"/Users/vega/mambaforge/lib/python3.10/multiprocessing/process.py\", line 314, in _bootstrap\n",
      "    self.run()\n",
      "  File \"/Users/vega/mambaforge/lib/python3.10/multiprocessing/process.py\", line 108, in run\n",
      "    self._target(*self._args, **self._kwargs)\n",
      "  File \"/Users/vega/mambaforge/lib/python3.10/concurrent/futures/process.py\", line 240, in _process_worker\n",
      "    call_item = call_queue.get(block=True)\n",
      "  File \"/Users/vega/mambaforge/lib/python3.10/multiprocessing/queues.py\", line 122, in get\n",
      "    return _ForkingPickler.loads(res)\n",
      "AttributeError: Can't get attribute 'processClubData' on <module '__main__' (built-in)>\n",
      "Traceback (most recent call last):\n",
      "  File \"/Users/vega/mambaforge/lib/python3.10/multiprocessing/process.py\", line 314, in _bootstrap\n",
      "    self.run()\n",
      "  File \"/Users/vega/mambaforge/lib/python3.10/multiprocessing/process.py\", line 108, in run\n",
      "    self._target(*self._args, **self._kwargs)\n",
      "  File \"/Users/vega/mambaforge/lib/python3.10/concurrent/futures/process.py\", line 240, in _process_worker\n",
      "    call_item = call_queue.get(block=True)\n",
      "  File \"/Users/vega/mambaforge/lib/python3.10/multiprocessing/queues.py\", line 122, in get\n",
      "    return _ForkingPickler.loads(res)\n",
      "AttributeError: Can't get attribute 'processClubData' on <module '__main__' (built-in)>\n",
      "Traceback (most recent call last):\n",
      "  File \"/Users/vega/mambaforge/lib/python3.10/multiprocessing/process.py\", line 314, in _bootstrap\n",
      "    self.run()\n",
      "  File \"/Users/vega/mambaforge/lib/python3.10/multiprocessing/process.py\", line 108, in run\n",
      "    self._target(*self._args, **self._kwargs)\n",
      "  File \"/Users/vega/mambaforge/lib/python3.10/concurrent/futures/process.py\", line 240, in _process_worker\n",
      "    call_item = call_queue.get(block=True)\n",
      "  File \"/Users/vega/mambaforge/lib/python3.10/multiprocessing/queues.py\", line 122, in get\n",
      "    return _ForkingPickler.loads(res)\n",
      "AttributeError: Can't get attribute 'processClubData' on <module '__main__' (built-in)>\n",
      "Process SpawnProcess-7:\n",
      "Traceback (most recent call last):\n",
      "  File \"/Users/vega/mambaforge/lib/python3.10/multiprocessing/process.py\", line 314, in _bootstrap\n",
      "    self.run()\n",
      "  File \"/Users/vega/mambaforge/lib/python3.10/multiprocessing/process.py\", line 108, in run\n",
      "    self._target(*self._args, **self._kwargs)\n",
      "  File \"/Users/vega/mambaforge/lib/python3.10/concurrent/futures/process.py\", line 240, in _process_worker\n",
      "    call_item = call_queue.get(block=True)\n",
      "  File \"/Users/vega/mambaforge/lib/python3.10/multiprocessing/queues.py\", line 122, in get\n",
      "    return _ForkingPickler.loads(res)\n",
      "AttributeError: Can't get attribute 'processClubData' on <module '__main__' (built-in)>\n"
     ]
    },
    {
     "ename": "BrokenProcessPool",
     "evalue": "A process in the process pool was terminated abruptly while the future was running or pending.",
     "output_type": "error",
     "traceback": [
      "\u001b[0;31m---------------------------------------------------------------------------\u001b[0m",
      "\u001b[0;31mBrokenProcessPool\u001b[0m                         Traceback (most recent call last)",
      "Cell \u001b[0;32mIn[54], line 67\u001b[0m\n\u001b[1;32m     64\u001b[0m     \u001b[38;5;28;01mreturn\u001b[39;00m result\n\u001b[1;32m     66\u001b[0m url \u001b[38;5;241m=\u001b[39m \u001b[38;5;124m\"\u001b[39m\u001b[38;5;124mhttps://fbref.com/en/comps/9/Premier-League-Stats\u001b[39m\u001b[38;5;124m\"\u001b[39m\n\u001b[0;32m---> 67\u001b[0m \u001b[43mgetAllClubData\u001b[49m\u001b[43m(\u001b[49m\u001b[43murl\u001b[49m\u001b[43m)\u001b[49m\n",
      "Cell \u001b[0;32mIn[54], line 59\u001b[0m, in \u001b[0;36mgetAllClubData\u001b[0;34m(url)\u001b[0m\n\u001b[1;32m     57\u001b[0m \u001b[38;5;66;03m# Get results from completed tasks\u001b[39;00m\n\u001b[1;32m     58\u001b[0m \u001b[38;5;28;01mfor\u001b[39;00m task \u001b[38;5;129;01min\u001b[39;00m club_tasks:\n\u001b[0;32m---> 59\u001b[0m     club_data \u001b[38;5;241m=\u001b[39m \u001b[43mtask\u001b[49m\u001b[38;5;241;43m.\u001b[39;49m\u001b[43mresult\u001b[49m\u001b[43m(\u001b[49m\u001b[43m)\u001b[49m\n\u001b[1;32m     60\u001b[0m     \u001b[38;5;28;01mif\u001b[39;00m club_data \u001b[38;5;129;01mis\u001b[39;00m \u001b[38;5;129;01mnot\u001b[39;00m \u001b[38;5;28;01mNone\u001b[39;00m:\n\u001b[1;32m     61\u001b[0m         allClubData\u001b[38;5;241m.\u001b[39mappend(club_data)\n",
      "File \u001b[0;32m~/mambaforge/lib/python3.10/concurrent/futures/_base.py:451\u001b[0m, in \u001b[0;36mFuture.result\u001b[0;34m(self, timeout)\u001b[0m\n\u001b[1;32m    449\u001b[0m     \u001b[38;5;28;01mraise\u001b[39;00m CancelledError()\n\u001b[1;32m    450\u001b[0m \u001b[38;5;28;01melif\u001b[39;00m \u001b[38;5;28mself\u001b[39m\u001b[38;5;241m.\u001b[39m_state \u001b[38;5;241m==\u001b[39m FINISHED:\n\u001b[0;32m--> 451\u001b[0m     \u001b[38;5;28;01mreturn\u001b[39;00m \u001b[38;5;28;43mself\u001b[39;49m\u001b[38;5;241;43m.\u001b[39;49m\u001b[43m__get_result\u001b[49m\u001b[43m(\u001b[49m\u001b[43m)\u001b[49m\n\u001b[1;32m    453\u001b[0m \u001b[38;5;28mself\u001b[39m\u001b[38;5;241m.\u001b[39m_condition\u001b[38;5;241m.\u001b[39mwait(timeout)\n\u001b[1;32m    455\u001b[0m \u001b[38;5;28;01mif\u001b[39;00m \u001b[38;5;28mself\u001b[39m\u001b[38;5;241m.\u001b[39m_state \u001b[38;5;129;01min\u001b[39;00m [CANCELLED, CANCELLED_AND_NOTIFIED]:\n",
      "File \u001b[0;32m~/mambaforge/lib/python3.10/concurrent/futures/_base.py:403\u001b[0m, in \u001b[0;36mFuture.__get_result\u001b[0;34m(self)\u001b[0m\n\u001b[1;32m    401\u001b[0m \u001b[38;5;28;01mif\u001b[39;00m \u001b[38;5;28mself\u001b[39m\u001b[38;5;241m.\u001b[39m_exception:\n\u001b[1;32m    402\u001b[0m     \u001b[38;5;28;01mtry\u001b[39;00m:\n\u001b[0;32m--> 403\u001b[0m         \u001b[38;5;28;01mraise\u001b[39;00m \u001b[38;5;28mself\u001b[39m\u001b[38;5;241m.\u001b[39m_exception\n\u001b[1;32m    404\u001b[0m     \u001b[38;5;28;01mfinally\u001b[39;00m:\n\u001b[1;32m    405\u001b[0m         \u001b[38;5;66;03m# Break a reference cycle with the exception in self._exception\u001b[39;00m\n\u001b[1;32m    406\u001b[0m         \u001b[38;5;28mself\u001b[39m \u001b[38;5;241m=\u001b[39m \u001b[38;5;28;01mNone\u001b[39;00m\n",
      "\u001b[0;31mBrokenProcessPool\u001b[0m: A process in the process pool was terminated abruptly while the future was running or pending."
     ]
    }
   ],
   "source": [
    "#get links to each club\n",
    "def getAllClubLinks(url):\n",
    "    data = requests.get(url)\n",
    "    soup = BeautifulSoup(data.text)\n",
    "    team_table = soup.select(\"table.stats_table\")[0]\n",
    "    team_links = team_table.find_all(\"a\")\n",
    "    team_links = [l.get(\"href\") for l in team_links]\n",
    "    team_links = [l for l in team_links if \"/squads/\" in l]\n",
    "    team_links = [f\"https://fbref.com{l}\" for l in team_links]\n",
    "    return team_links\n",
    "\n",
    "def getClubData(requestData, param, match, keepList):\n",
    "    soup = BeautifulSoup(requestData.text)\n",
    "    all_links = soup.find_all(\"a\")\n",
    "    links = [l.get(\"href\") for l in all_links]\n",
    "    links = [l for l in links if l and param in l]\n",
    "    links = \"https://fbref.com\" + links[0]\n",
    "    shooting = requests.get(links)\n",
    "    shooting = pd.read_html(shooting.text, match=match)[0]\n",
    "    shooting.columns = shooting.columns.droplevel()\n",
    "    shooting = shooting[keepList]\n",
    "    return shooting[:-1]\n",
    "\n",
    "def getAllClubData(url):\n",
    "    \n",
    "    #runs only once for all clubs, returns team links\n",
    "    allClubLinks = getAllClubLinks(url)\n",
    "    names = {\"Comp\": \"Competition\", \"Poss\": \"Possession\", \"Sh\":\"Shots\", \"SoT\":\"Shots Target\", \"CrdY\":\"Yellow\", \"CrdR\":\"Red\", \"Fls\":\"Fouls\",\"Off\":\"Offside\"}\n",
    "    \n",
    "    allClubData = []\n",
    "    for link in allClubLinks:\n",
    "        club = requests.get(link)\n",
    "        clubName = link.split(\"/\")[-1].replace(\"-Stats\",\"\").replace(\"-\", \" \")\n",
    "        print(clubName)\n",
    "        \n",
    "        #get Scores (on the same page)\n",
    "        scores = pd.read_html(club.text, match = \"Scores & Fixtures\")[0]\n",
    "        scores = scores[['Date', 'Time', 'Comp', 'Round', 'Day', 'Venue', 'Result', 'GF', 'GA','Opponent', 'Poss']]\n",
    "        \n",
    "        #get shooting and other stat (figure better ways for these two)\n",
    "        shooting = getClubData(club, \"/all_comps/shooting/\", \"Shooting\", ['Date', 'Sh', \"SoT\"])\n",
    "        misc = getClubData(club, \"/all_comps/misc/\", \"Miscellaneous\", ['Date', 'CrdY', 'CrdR', 'Fls', 'Off'])\n",
    "        \n",
    "        finalClubData = scores.merge(shooting,how ='left').merge(misc, how='left')\n",
    "        allClubData.append(finalClubData)\n",
    "        time.sleep(10)\n",
    "#     keepList = ['Date', 'Time', 'Comp', 'Round', 'Day', 'Venue', 'Result', 'GF', 'GA','Opponent', 'Poss', 'Sh', \"SoT\", 'CrdY', 'CrdR', 'Fls', 'Off']\n",
    "    finalClubData.rename(columns=names, inplace=True)\n",
    "    finalClubData = finalClubData[finalClubData[\"Competition\"] == \"Premier League\"]\n",
    "    finalClubData[\"Team\"] = clubName\n",
    "    result = pd.concat(allClubData, axis=0)\n",
    "    return result\n",
    "\n",
    "url = \"https://fbref.com/en/comps/9/Premier-League-Stats\"\n",
    "getAllClubData(url)"
   ]
  },
  {
   "cell_type": "code",
   "execution_count": 12,
   "id": "33010f72",
   "metadata": {
    "scrolled": false
   },
   "outputs": [],
   "source": [
    "#get links to each club\n",
    "def getAllClubLinks(url):\n",
    "    data = requests.get(url)\n",
    "    soup = BeautifulSoup(data.text)\n",
    "    team_table = soup.select(\"table.stats_table\")[0]\n",
    "    team_links = team_table.find_all(\"a\")\n",
    "    team_links = [l.get(\"href\") for l in team_links]\n",
    "    team_links = [l for l in team_links if \"/squads/\" in l]\n",
    "    team_links = [f\"https://fbref.com{l}\" for l in team_links]\n",
    "    return team_links\n",
    "\n",
    "url = \"https://fbref.com/en/comps/9/Premier-League-Stats\"\n",
    "getAllClubLinks(url)"
   ]
  },
  {
   "cell_type": "code",
   "execution_count": 24,
   "id": "33ce2fa2",
   "metadata": {},
   "outputs": [],
   "source": [
    "def getClubData(requestData, param, match, keepList):\n",
    "    soup = BeautifulSoup(requestData.text)\n",
    "    all_links = soup.find_all(\"a\")\n",
    "    links = [l.get(\"href\") for l in all_links]\n",
    "    links = [l for l in links if l and param in l]\n",
    "    links = \"https://fbref.com\" + links[0]\n",
    "    shooting = requests.get(links)\n",
    "    shooting = pd.read_html(shooting.text, match=match)[0]\n",
    "    shooting.columns = shooting.columns.droplevel()\n",
    "#     shooting = shooting[keepList]\n",
    "    return shooting[:-1]"
   ]
  },
  {
   "cell_type": "code",
   "execution_count": 16,
   "id": "17bb2e92",
   "metadata": {},
   "outputs": [],
   "source": []
  },
  {
   "cell_type": "code",
   "execution_count": 15,
   "id": "743fff2c",
   "metadata": {
    "scrolled": false
   },
   "outputs": [],
   "source": [
    "def getAllClubData(url):\n",
    "    \n",
    "    #runs only once for all clubs, returns team links\n",
    "    allClubLinks = getAllClubLinks(url)\n",
    "    names = {\"Comp\": \"Competition\", \"Poss\": \"Possession\", \"Sh\":\"Shots\", \"SoT\":\"Shots Target\", \"CrdY\":\"Yellow\", \"CrdR\":\"Red\", \"Fls\":\"Fouls\",\"Off\":\"Offside\"}\n",
    "    \n",
    "    allClubData = []\n",
    "    for link in allClubLinks:\n",
    "        club = requests.get(link)\n",
    "        clubName = link.split(\"/\")[-1].replace(\"-Stats\",\"\").replace(\"-\", \" \")\n",
    "        print(clubName)\n",
    "        \n",
    "        #get Scores\n",
    "        scores = pd.read_html(club.text, match = \"Scores & Fixtures\")[0]\n",
    "        scores = scores[['Date', 'Time', 'Comp', 'Round', 'Day', 'Venue', 'Result', 'GF', 'GA','Opponent', 'Poss']]\n",
    "        \n",
    "        #get shooting and other stat (figure better ways for these two)\n",
    "        shooting = getClubData(club, \"/all_comps/shooting/\", \"Shooting\", ['Date', 'Sh', \"SoT\"])\n",
    "        misc = getClubData(club, \"/all_comps/misc/\", \"Miscellaneous\", ['Date', 'CrdY', 'CrdR', 'Fls', 'Off'])\n",
    "        \n",
    "        finalClubData = scores.merge(shooting,how ='left').merge(misc, how='left')\n",
    "        allClubData.append(finalClubData)\n",
    "        time.sleep(10)\n",
    "#     keepList = ['Date', 'Time', 'Comp', 'Round', 'Day', 'Venue', 'Result', 'GF', 'GA','Opponent', 'Poss', 'Sh', \"SoT\", 'CrdY', 'CrdR', 'Fls', 'Off']\n",
    "#     finalClubData.rename(columns=names, inplace=True)\n",
    "    finalClubData = finalClubData[finalClubData[\"Competition\"] == \"Premier League\"]\n",
    "    finalClubData[\"Team\"] = clubName\n",
    "    result = pd.concat(allClubData, axis=0)\n",
    "    return result\n",
    "\n",
    "url = \"https://fbref.com/en/comps/9/Premier-League-Stats\"\n",
    "getAllClubData(url)"
   ]
  },
  {
   "cell_type": "code",
   "execution_count": null,
   "id": "e66742d4",
   "metadata": {
    "scrolled": false
   },
   "outputs": [],
   "source": [
    "\n",
    "# url = \"https://fbref.com/en/comps/9/Premier-League-Stats\"\n",
    "# allClubLinks = getClubLinks(url)\n",
    "\n",
    "# #chose one from all the links\n",
    "# club = requests.get(allClubLinks[1])\n",
    "# club_name = allClubLinks[1].split(\"/\")[-1].replace(\"-Stats\",\"\").replace(\"-\", \" \")\n",
    "\n",
    "# #thereisonyl one element\n",
    "# matches = pd.read_html(club.text, match = \"Scores & Fixtures\")[0]\n",
    "# matches.columns\n",
    "# matches = matches[['Date', 'Time', 'Comp', 'Round', 'Day', 'Venue', 'Result', 'GF', 'GA','Opponent', 'Poss']]\n",
    "\n",
    "\n",
    "# shooting = getData(\"/all_comps/shooting/\", \"Shooting\", ['Date', 'Sh', \"SoT\"])\n",
    "# misc = getData(\"/all_comps/misc/\", \"Miscellaneous\", ['Date', 'CrdY', 'CrdR', 'Fls', 'Off'])\n",
    "\n",
    "# final_data = matches.merge(shooting,how ='left').merge(misc, how='left')\n",
    "# names = {\"Comp\": \"Competition\", \"Poss\": \"Possession\", \"Sh\":\"Shots\", \"SoT\":\"Shots Target\", \"CrdY\":\"Yellow\", \"CrdR\":\"Red\", \"Fls\":\"Fouls\",\"Off\":\"Offside\"}\n",
    "# final_data.rename(columns=names, inplace=True)\n",
    "# final_data\n",
    "# final_data = final_data[final_data[\"Competition\"] == \"Premier League\"]\n",
    "# final_data[\"Team\"] = club_name\n",
    "# final_data"
   ]
  },
  {
   "cell_type": "markdown",
   "id": "0a68cf12",
   "metadata": {},
   "source": [
    "<!-- <a href=\"/en/squads/b8fd03ef/2022-2023/matchlogs/all_comps/keeper/Manchester-City-Match-Logs-All-Competitions\">Goalkeeping</a>  /\n",
    "\n",
    "<a href=\"/en/squads/b8fd03ef/2022-2023/matchlogs/all_comps/passing/Manchester-City-Match-Logs-All-Competitions\">Passing</a>\n",
    "\n",
    "<a href=\"/en/squads/b8fd03ef/2022-2023/matchlogs/all_comps/shooting/Manchester-City-Match-Logs-All-Competitions\">Shooting</a>\n",
    " -->"
   ]
  }
 ],
 "metadata": {
  "kernelspec": {
   "display_name": "Python 3 (ipykernel)",
   "language": "python",
   "name": "python3"
  },
  "language_info": {
   "codemirror_mode": {
    "name": "ipython",
    "version": 3
   },
   "file_extension": ".py",
   "mimetype": "text/x-python",
   "name": "python",
   "nbconvert_exporter": "python",
   "pygments_lexer": "ipython3",
   "version": "3.10.10"
  }
 },
 "nbformat": 4,
 "nbformat_minor": 5
}
