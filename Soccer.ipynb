{
 "cells": [
  {
   "cell_type": "code",
   "execution_count": 1,
   "id": "09dd2c3a",
   "metadata": {},
   "outputs": [],
   "source": [
    "import requests\n",
    "from bs4 import BeautifulSoup\n",
    "import pandas as pd"
   ]
  },
  {
   "cell_type": "code",
   "execution_count": 2,
   "id": "715b3777",
   "metadata": {
    "scrolled": true
   },
   "outputs": [],
   "source": [
    "#get links to each club\n",
    "def getAllClubLinks(url):\n",
    "    data = requests.get(url)\n",
    "    soup = BeautifulSoup(data.text)\n",
    "    team_table = soup.select(\"table.stats_table\")[0]\n",
    "    team_links = team_table.find_all(\"a\")\n",
    "    team_links = [l.get(\"href\") for l in team_links]\n",
    "    team_links = [l for l in team_links if \"/squads/\" in l]\n",
    "    team_links = [f\"https://fbref.com{l}\" for l in team_links]\n",
    "    return team_links"
   ]
  },
  {
   "cell_type": "code",
   "execution_count": 3,
   "id": "7399be77",
   "metadata": {},
   "outputs": [],
   "source": [
    "def getClubData(requestData, param, match, keepList):\n",
    "    soup = BeautifulSoup(requestData.text)\n",
    "    all_links = soup.find_all(\"a\")\n",
    "    links = [l.get(\"href\") for l in all_links]\n",
    "    links = [l for l in links if l and param in l]\n",
    "    links = \"https://fbref.com\" + links[0]\n",
    "    shooting = requests.get(links)\n",
    "    shooting = pd.read_html(shooting.text, match=match)[0]\n",
    "    shooting.columns = shooting.columns.droplevel()\n",
    "    shooting = shooting[keepList]\n",
    "    return shooting[:-1]"
   ]
  },
  {
   "cell_type": "code",
   "execution_count": 4,
   "id": "086ac871",
   "metadata": {
    "scrolled": false
   },
   "outputs": [
    {
     "ename": "IndexError",
     "evalue": "list index out of range",
     "output_type": "error",
     "traceback": [
      "\u001b[0;31m---------------------------------------------------------------------------\u001b[0m",
      "\u001b[0;31mIndexError\u001b[0m                                Traceback (most recent call last)",
      "Cell \u001b[0;32mIn[4], line 28\u001b[0m\n\u001b[1;32m     23\u001b[0m     \u001b[38;5;28;01mreturn\u001b[39;00m allClubData\n\u001b[1;32m     27\u001b[0m url \u001b[38;5;241m=\u001b[39m \u001b[38;5;124m\"\u001b[39m\u001b[38;5;124mhttps://fbref.com/en/comps/9/Premier-League-Stats\u001b[39m\u001b[38;5;124m\"\u001b[39m\n\u001b[0;32m---> 28\u001b[0m \u001b[43mgetAllClubData\u001b[49m\u001b[43m(\u001b[49m\u001b[43murl\u001b[49m\u001b[43m)\u001b[49m\n",
      "Cell \u001b[0;32mIn[4], line 2\u001b[0m, in \u001b[0;36mgetAllClubData\u001b[0;34m(url)\u001b[0m\n\u001b[1;32m      1\u001b[0m \u001b[38;5;28;01mdef\u001b[39;00m \u001b[38;5;21mgetAllClubData\u001b[39m(url):\n\u001b[0;32m----> 2\u001b[0m     allClubLinks \u001b[38;5;241m=\u001b[39m \u001b[43mgetAllClubLinks\u001b[49m\u001b[43m(\u001b[49m\u001b[43murl\u001b[49m\u001b[43m)\u001b[49m\n\u001b[1;32m      3\u001b[0m     names \u001b[38;5;241m=\u001b[39m {\u001b[38;5;124m\"\u001b[39m\u001b[38;5;124mComp\u001b[39m\u001b[38;5;124m\"\u001b[39m: \u001b[38;5;124m\"\u001b[39m\u001b[38;5;124mCompetition\u001b[39m\u001b[38;5;124m\"\u001b[39m, \u001b[38;5;124m\"\u001b[39m\u001b[38;5;124mPoss\u001b[39m\u001b[38;5;124m\"\u001b[39m: \u001b[38;5;124m\"\u001b[39m\u001b[38;5;124mPossession\u001b[39m\u001b[38;5;124m\"\u001b[39m, \u001b[38;5;124m\"\u001b[39m\u001b[38;5;124mSh\u001b[39m\u001b[38;5;124m\"\u001b[39m:\u001b[38;5;124m\"\u001b[39m\u001b[38;5;124mShots\u001b[39m\u001b[38;5;124m\"\u001b[39m, \u001b[38;5;124m\"\u001b[39m\u001b[38;5;124mSoT\u001b[39m\u001b[38;5;124m\"\u001b[39m:\u001b[38;5;124m\"\u001b[39m\u001b[38;5;124mShots Target\u001b[39m\u001b[38;5;124m\"\u001b[39m, \u001b[38;5;124m\"\u001b[39m\u001b[38;5;124mCrdY\u001b[39m\u001b[38;5;124m\"\u001b[39m:\u001b[38;5;124m\"\u001b[39m\u001b[38;5;124mYellow\u001b[39m\u001b[38;5;124m\"\u001b[39m, \u001b[38;5;124m\"\u001b[39m\u001b[38;5;124mCrdR\u001b[39m\u001b[38;5;124m\"\u001b[39m:\u001b[38;5;124m\"\u001b[39m\u001b[38;5;124mRed\u001b[39m\u001b[38;5;124m\"\u001b[39m, \u001b[38;5;124m\"\u001b[39m\u001b[38;5;124mFls\u001b[39m\u001b[38;5;124m\"\u001b[39m:\u001b[38;5;124m\"\u001b[39m\u001b[38;5;124mFouls\u001b[39m\u001b[38;5;124m\"\u001b[39m,\u001b[38;5;124m\"\u001b[39m\u001b[38;5;124mOff\u001b[39m\u001b[38;5;124m\"\u001b[39m:\u001b[38;5;124m\"\u001b[39m\u001b[38;5;124mOffside\u001b[39m\u001b[38;5;124m\"\u001b[39m}\n\u001b[1;32m      5\u001b[0m     allClubData \u001b[38;5;241m=\u001b[39m []\n",
      "Cell \u001b[0;32mIn[2], line 5\u001b[0m, in \u001b[0;36mgetAllClubLinks\u001b[0;34m(url)\u001b[0m\n\u001b[1;32m      3\u001b[0m data \u001b[38;5;241m=\u001b[39m requests\u001b[38;5;241m.\u001b[39mget(url)\n\u001b[1;32m      4\u001b[0m soup \u001b[38;5;241m=\u001b[39m BeautifulSoup(data\u001b[38;5;241m.\u001b[39mtext)\n\u001b[0;32m----> 5\u001b[0m team_table \u001b[38;5;241m=\u001b[39m \u001b[43msoup\u001b[49m\u001b[38;5;241;43m.\u001b[39;49m\u001b[43mselect\u001b[49m\u001b[43m(\u001b[49m\u001b[38;5;124;43m\"\u001b[39;49m\u001b[38;5;124;43mtable.stats_table\u001b[39;49m\u001b[38;5;124;43m\"\u001b[39;49m\u001b[43m)\u001b[49m\u001b[43m[\u001b[49m\u001b[38;5;241;43m0\u001b[39;49m\u001b[43m]\u001b[49m\n\u001b[1;32m      6\u001b[0m team_links \u001b[38;5;241m=\u001b[39m team_table\u001b[38;5;241m.\u001b[39mfind_all(\u001b[38;5;124m\"\u001b[39m\u001b[38;5;124ma\u001b[39m\u001b[38;5;124m\"\u001b[39m)\n\u001b[1;32m      7\u001b[0m team_links \u001b[38;5;241m=\u001b[39m [l\u001b[38;5;241m.\u001b[39mget(\u001b[38;5;124m\"\u001b[39m\u001b[38;5;124mhref\u001b[39m\u001b[38;5;124m\"\u001b[39m) \u001b[38;5;28;01mfor\u001b[39;00m l \u001b[38;5;129;01min\u001b[39;00m team_links]\n",
      "\u001b[0;31mIndexError\u001b[0m: list index out of range"
     ]
    }
   ],
   "source": [
    "def getAllClubData(url):\n",
    "    allClubLinks = getAllClubLinks(url)\n",
    "    names = {\"Comp\": \"Competition\", \"Poss\": \"Possession\", \"Sh\":\"Shots\", \"SoT\":\"Shots Target\", \"CrdY\":\"Yellow\", \"CrdR\":\"Red\", \"Fls\":\"Fouls\",\"Off\":\"Offside\"}\n",
    "    \n",
    "    allClubData = []\n",
    "    for link in allClubLinks:\n",
    "        club = requests.get(link)\n",
    "        clubName = allClubLinks[1].split(\"/\")[-1].replace(\"-Stats\",\"\").replace(\"-\", \" \")\n",
    "        \n",
    "        #get Scores\n",
    "        scores = pd.read_html(club.text, match = \"Scores & Fixtures\")[0]\n",
    "        scores = scores[['Date', 'Time', 'Comp', 'Round', 'Day', 'Venue', 'Result', 'GF', 'GA','Opponent', 'Poss']]\n",
    "        \n",
    "        #get shooting and other stat\n",
    "        shooting = getClubData(club, \"/all_comps/shooting/\", \"Shooting\", ['Date', 'Sh', \"SoT\"])\n",
    "        misc = getClubData(club, \"/all_comps/misc/\", \"Miscellaneous\", ['Date', 'CrdY', 'CrdR', 'Fls', 'Off'])\n",
    "        finalClubData = scores.merge(shooting,how ='left').merge(misc, how='left')\n",
    "        finalClubData.rename(columns=names, inplace=True)\n",
    "        finalClubData = finalClubData[finalClubData[\"Competition\"] == \"Premier League\"]\n",
    "        finalClubData[\"Team\"] = clubName\n",
    "        allClubData.append(finalClubData)\n",
    "    return allClubData\n",
    "    \n",
    "    \n",
    "    \n",
    "url = \"https://fbref.com/en/comps/9/Premier-League-Stats\"\n",
    "getAllClubData(url)"
   ]
  },
  {
   "cell_type": "code",
   "execution_count": null,
   "id": "2204833a",
   "metadata": {
    "scrolled": false
   },
   "outputs": [],
   "source": [
    "\n",
    "# url = \"https://fbref.com/en/comps/9/Premier-League-Stats\"\n",
    "# allClubLinks = getClubLinks(url)\n",
    "\n",
    "# #chose one from all the links\n",
    "# club = requests.get(allClubLinks[1])\n",
    "# club_name = allClubLinks[1].split(\"/\")[-1].replace(\"-Stats\",\"\").replace(\"-\", \" \")\n",
    "\n",
    "# #thereisonyl one element\n",
    "# matches = pd.read_html(club.text, match = \"Scores & Fixtures\")[0]\n",
    "# matches.columns\n",
    "# matches = matches[['Date', 'Time', 'Comp', 'Round', 'Day', 'Venue', 'Result', 'GF', 'GA','Opponent', 'Poss']]\n",
    "\n",
    "\n",
    "# shooting = getData(\"/all_comps/shooting/\", \"Shooting\", ['Date', 'Sh', \"SoT\"])\n",
    "# misc = getData(\"/all_comps/misc/\", \"Miscellaneous\", ['Date', 'CrdY', 'CrdR', 'Fls', 'Off'])\n",
    "\n",
    "# final_data = matches.merge(shooting,how ='left').merge(misc, how='left')\n",
    "# names = {\"Comp\": \"Competition\", \"Poss\": \"Possession\", \"Sh\":\"Shots\", \"SoT\":\"Shots Target\", \"CrdY\":\"Yellow\", \"CrdR\":\"Red\", \"Fls\":\"Fouls\",\"Off\":\"Offside\"}\n",
    "# final_data.rename(columns=names, inplace=True)\n",
    "# final_data\n",
    "# final_data = final_data[final_data[\"Competition\"] == \"Premier League\"]\n",
    "# final_data[\"Team\"] = club_name\n",
    "# final_data"
   ]
  },
  {
   "cell_type": "markdown",
   "id": "bceddba1",
   "metadata": {},
   "source": [
    "<!-- <a href=\"/en/squads/b8fd03ef/2022-2023/matchlogs/all_comps/keeper/Manchester-City-Match-Logs-All-Competitions\">Goalkeeping</a>  /\n",
    "\n",
    "<a href=\"/en/squads/b8fd03ef/2022-2023/matchlogs/all_comps/passing/Manchester-City-Match-Logs-All-Competitions\">Passing</a>\n",
    "\n",
    "<a href=\"/en/squads/b8fd03ef/2022-2023/matchlogs/all_comps/shooting/Manchester-City-Match-Logs-All-Competitions\">Shooting</a>\n",
    " -->"
   ]
  }
 ],
 "metadata": {
  "kernelspec": {
   "display_name": "Python 3 (ipykernel)",
   "language": "python",
   "name": "python3"
  },
  "language_info": {
   "codemirror_mode": {
    "name": "ipython",
    "version": 3
   },
   "file_extension": ".py",
   "mimetype": "text/x-python",
   "name": "python",
   "nbconvert_exporter": "python",
   "pygments_lexer": "ipython3",
   "version": "3.10.10"
  }
 },
 "nbformat": 4,
 "nbformat_minor": 5
}
