{
 "cells": [
  {
   "cell_type": "markdown",
   "id": "4b068f73",
   "metadata": {},
   "source": [
    "Note: \\\n",
    "It might be much faster using asynchronous programming and parsel: import asyncio, import aiohttp, from parsel import Selector, lxml was faster too \\\n",
    "Asyncio with Multiprocessing do this for faster return time for later use \\\n",
    "Even merged parallel (right after a df is returned) instead of merging one of byafter we get all the dataframe at the end\n"
   ]
  },
  {
   "cell_type": "code",
   "execution_count": 1,
   "id": "686213db",
   "metadata": {},
   "outputs": [],
   "source": [
    "import requests\n",
    "from bs4 import BeautifulSoup\n",
    "import pandas as pd\n",
    "import random\n",
    "import concurrent.futures\n",
    "import time"
   ]
  },
  {
   "cell_type": "code",
   "execution_count": null,
   "id": "ee9f800f",
   "metadata": {},
   "outputs": [],
   "source": []
  },
  {
   "cell_type": "code",
   "execution_count": 26,
   "id": "808bf585",
   "metadata": {},
   "outputs": [],
   "source": [
    "def getAllClubLinks(url):\n",
    "    \n",
    "    #get the response\n",
    "    response = requests.get(url)\n",
    "    soup = BeautifulSoup(response.text)\n",
    "    \n",
    "    #select the first table and find all anchor tags\n",
    "    teamTable = soup.select(\"table.stats_table\")[0]\n",
    "    teamLinks = teamTable.find_all(\"a\")\n",
    "    \n",
    "    #get if link has href and and \"/squads/\"\n",
    "    teamLinks = [l.get(\"href\") for l in teamLinks]\n",
    "    teamLinks = [l for l in teamLinks if \"/squads/\" in l]\n",
    "    teamLinks = [f\"https://fbref.com{l}\" for l in teamLinks]\n",
    "    return teamLinks"
   ]
  },
  {
   "cell_type": "code",
   "execution_count": 27,
   "id": "33365542",
   "metadata": {
    "scrolled": false
   },
   "outputs": [],
   "source": [
    "def getAllClubData(linkToLeague):\n",
    "    \n",
    "    # runs only once for all clubs, returns team links\n",
    "    allClubLinks = getAllClubLinks(linkToLeague)\n",
    "    names = {\"Comp\": \"Competition\", \"Poss\": \"Possession\", \"Sh\":\"Shots\", \"SoT\":\"Shots Target\", \"CrdY\":\"Yellow\", \"CrdR\":\"Red\", \"Fls\":\"Fouls\",\"Off\":\"Offside\"}\n",
    "    \n",
    "    result = pd.DataFrame()\n",
    "    \n",
    "    with concurrent.futures.ThreadPoolExecutor() as executor:\n",
    "        \n",
    "        #submit each club processing as a separate task\n",
    "        #first arg of submit is the func to be executed in parallel and the subseqent are the args to that function\n",
    "        club_tasks = [executor.submit(getClubData, clubLink) for clubLink in allClubLinks]\n",
    "        \n",
    "        #process the completed tasks as they finish\n",
    "        for future in concurrent.futures.as_completed(club_tasks):\n",
    "            club_data = future.result()\n",
    "            if club_data is not None:\n",
    "                \n",
    "                #concatenate current club_data with the result dataframe\n",
    "                result = pd.concat([result, club_data], axis=0)  \n",
    "                \n",
    "    #rename columns     \n",
    "    result.rename(columns=names, inplace=True)  \n",
    "    return result\n",
    "\n",
    "\n",
    "def getClubDataDiffPage(requestData, param, match, keepList):\n",
    "    soup = BeautifulSoup(requestData.text)\n",
    "    \n",
    "    #find all achors tags with href and params in it\n",
    "    all_links = soup.find_all(\"a\")\n",
    "    links = [l.get(\"href\") for l in all_links]\n",
    "    links = [l for l in links if l and param in l]\n",
    "    links = \"https://fbref.com\" + links[0]\n",
    "    \n",
    "    #to comply with rate limit, randomized for each parallel processor so that they don\n",
    "    time.sleep(random.randint(10,30))\n",
    "    response = requests.get(links)\n",
    "    response = pd.read_html(response.text, match=match)[0]\n",
    "\n",
    "    #drop one of the two header levels\n",
    "    response.columns = response.columns.droplevel()\n",
    "    response = response[keepList]\n",
    "\n",
    "    #the last row contains overall statics, so ignored\n",
    "    return response[:-1]\n",
    "\n",
    "def getClubData(linkToClub):\n",
    "    time.sleep(random.randint(10,30))\n",
    "    clubResponse = requests.get(linkToClub)\n",
    "    clubName = linkToClub.split(\"/\")[-1].replace(\"-Stats\",\"\").replace(\"-\", \" \")\n",
    "\n",
    "    # get Scores (on the same page as first crawled page)\n",
    "    scores = pd.read_html(clubResponse.text, match = \"Scores & Fixtures\")[0]\n",
    "\n",
    "    #only keep these columns\n",
    "    scores = scores[['Date', 'Time', 'Comp', 'Round', 'Day', 'Venue', 'Result', 'GF', 'GA','Opponent', 'Poss']]\n",
    "\n",
    "    #get shooting and other stat\n",
    "    shooting = getClubDataDiffPage(clubResponse, \"/all_comps/shooting/\", \"Shooting\", ['Date', 'Sh', \"SoT\"])\n",
    "    time.sleep(random.randint(10,30))\n",
    "    misc = getClubDataDiffPage(clubResponse, \"/all_comps/misc/\", \"Miscellaneous\", ['Date', 'CrdY', 'CrdR', 'Fls', 'Off'])\n",
    "    finalClubData = scores.merge(shooting, how='left').merge(misc, how='left')\n",
    "    finalClubData = finalClubData[finalClubData[\"Competition\"] == \"Premier League\"]\n",
    "    finalClubData[\"Team\"] = clubName\n",
    "    return finalClubData\n",
    "\n",
    "url = \"https://fbref.com/en/comps/9/Premier-League-Stats\"\n",
    "res = getAllClubData(url)"
   ]
  },
  {
   "cell_type": "code",
   "execution_count": null,
   "id": "cfa1fad5",
   "metadata": {
    "scrolled": true
   },
   "outputs": [],
   "source": []
  },
  {
   "cell_type": "markdown",
   "id": "a4c1ec18",
   "metadata": {},
   "source": [
    "<!-- <a href=\"/en/squads/b8fd03ef/2022-2023/matchlogs/all_comps/keeper/Manchester-City-Match-Logs-All-Competitions\">Goalkeeping</a>  /\n",
    "\n",
    "<a href=\"/en/squads/b8fd03ef/2022-2023/matchlogs/all_comps/passing/Manchester-City-Match-Logs-All-Competitions\">Passing</a>\n",
    "\n",
    "<a href=\"/en/squads/b8fd03ef/2022-2023/matchlogs/all_comps/shooting/Manchester-City-Match-Logs-All-Competitions\">Shooting</a>\n",
    " -->"
   ]
  }
 ],
 "metadata": {
  "kernelspec": {
   "display_name": "Python 3 (ipykernel)",
   "language": "python",
   "name": "python3"
  },
  "language_info": {
   "codemirror_mode": {
    "name": "ipython",
    "version": 3
   },
   "file_extension": ".py",
   "mimetype": "text/x-python",
   "name": "python",
   "nbconvert_exporter": "python",
   "pygments_lexer": "ipython3",
   "version": "3.10.10"
  }
 },
 "nbformat": 4,
 "nbformat_minor": 5
}
